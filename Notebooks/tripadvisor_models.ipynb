{
 "cells": [
  {
   "cell_type": "code",
   "execution_count": 3,
   "id": "86494477",
   "metadata": {},
   "outputs": [],
   "source": [
    "import pandas as pd\n",
    "import numpy as np\n",
    "\n",
    "from sklearn.pipeline import Pipeline, make_pipeline, FeatureUnion\n",
    "from sklearn.feature_extraction.text import CountVectorizer\n",
    "from sklearn.base import BaseEstimator, ClassifierMixin\n",
    "from sklearn.linear_model import LogisticRegression\n",
    "from sklearn.model_selection import cross_val_score,train_test_split,GridSearchCV\n",
    "\n",
    "\n",
    "from sklearn.naive_bayes import MultinomialNB\n",
    "from sklearn.ensemble import RandomForestClassifier,BaggingClassifier,ExtraTreesClassifier\n",
    "from sklearn.tree import DecisionTreeClassifier\n",
    "\n",
    "import numpy as np\n",
    "import matplotlib.pyplot as plt"
   ]
  },
  {
   "cell_type": "code",
   "execution_count": 4,
   "id": "db0fa2a5",
   "metadata": {},
   "outputs": [],
   "source": [
    "cleaned_dataset = pd.read_csv(\"cleaned_tripadvisor.csv\")"
   ]
  },
  {
   "cell_type": "code",
   "execution_count": 5,
   "id": "c632a4b4",
   "metadata": {},
   "outputs": [
    {
     "data": {
      "text/plain": [
       "(147579, 7)"
      ]
     },
     "metadata": {},
     "output_type": "display_data"
    },
    {
     "data": {
      "text/plain": [
       "0"
      ]
     },
     "metadata": {},
     "output_type": "display_data"
    }
   ],
   "source": [
    "# Cheking data frame shape\n",
    "display(cleaned_dataset.shape)\n",
    "#Checking if there is a null value\n",
    "display(cleaned_dataset.isnull().sum().sum())\n",
    "#Checking column names\n",
    "#df.columns"
   ]
  },
  {
   "cell_type": "code",
   "execution_count": 6,
   "id": "87454ba1",
   "metadata": {},
   "outputs": [
    {
     "data": {
      "text/html": [
       "<div>\n",
       "<style scoped>\n",
       "    .dataframe tbody tr th:only-of-type {\n",
       "        vertical-align: middle;\n",
       "    }\n",
       "\n",
       "    .dataframe tbody tr th {\n",
       "        vertical-align: top;\n",
       "    }\n",
       "\n",
       "    .dataframe thead th {\n",
       "        text-align: right;\n",
       "    }\n",
       "</style>\n",
       "<table border=\"1\" class=\"dataframe\">\n",
       "  <thead>\n",
       "    <tr style=\"text-align: right;\">\n",
       "      <th></th>\n",
       "      <th>rating_review</th>\n",
       "      <th>review_full</th>\n",
       "      <th>word_count</th>\n",
       "      <th>parsedclean_review</th>\n",
       "      <th>clean_title_lemmat</th>\n",
       "      <th>clean_title_lancast</th>\n",
       "      <th>clean_title_port</th>\n",
       "    </tr>\n",
       "  </thead>\n",
       "  <tbody>\n",
       "    <tr>\n",
       "      <th>0</th>\n",
       "      <td>5</td>\n",
       "      <td>Totally in love with the Auro of the place, re...</td>\n",
       "      <td>{'Totally': 1, 'in': 3, 'love': 1, 'with': 2, ...</td>\n",
       "      <td>totally love auro place really beautiful quite...</td>\n",
       "      <td>totally love auro place really beautiful quite...</td>\n",
       "      <td>tot lov auro plac real beauty quit fant tim am...</td>\n",
       "      <td>total love auro place realli beauti quit fanci...</td>\n",
       "    </tr>\n",
       "    <tr>\n",
       "      <th>1</th>\n",
       "      <td>5</td>\n",
       "      <td>I went this bar 8 days regularly with my husba...</td>\n",
       "      <td>{'I': 1, 'went': 1, 'this': 1, 'bar': 1, '8': ...</td>\n",
       "      <td>went bar days regularly husband fully satisfie...</td>\n",
       "      <td>went bar day regularly husband fully satisfied...</td>\n",
       "      <td>went bar day regul husband ful satisfy serv st...</td>\n",
       "      <td>went bar day regularli husband fulli satisfi s...</td>\n",
       "    </tr>\n",
       "    <tr>\n",
       "      <th>2</th>\n",
       "      <td>5</td>\n",
       "      <td>We were few friends and was a birthday celebra...</td>\n",
       "      <td>{'We': 2, 'were': 1, 'few': 1, 'friends': 1, '...</td>\n",
       "      <td>friends birthday celebration food good taste r...</td>\n",
       "      <td>friend birthday celebration food good taste re...</td>\n",
       "      <td>friend birthday celebr food good tast real fre...</td>\n",
       "      <td>friend birthday celebr food good tast realli f...</td>\n",
       "    </tr>\n",
       "    <tr>\n",
       "      <th>3</th>\n",
       "      <td>5</td>\n",
       "      <td>Fatjar Cafe and Market is the perfect place fo...</td>\n",
       "      <td>{'Fatjar': 1, 'Cafe': 1, 'and': 4, 'Market': 1...</td>\n",
       "      <td>fatjar cafe market perfect place casual lunch ...</td>\n",
       "      <td>fatjar cafe market perfect place casual lunch ...</td>\n",
       "      <td>fatj caf market perfect plac cas lunch lov on ...</td>\n",
       "      <td>fatjar cafe market perfect place casual lunch ...</td>\n",
       "    </tr>\n",
       "    <tr>\n",
       "      <th>4</th>\n",
       "      <td>5</td>\n",
       "      <td>Hey Guys, if you are craving for pizza and sea...</td>\n",
       "      <td>{'Hey': 1, 'Guys,': 1, 'if': 1, 'you': 3, 'are...</td>\n",
       "      <td>hey guys craving pizza searching visit cafe ye...</td>\n",
       "      <td>hey guy craving pizza searching visit cafe yes...</td>\n",
       "      <td>hey guy crav pizz search visit caf ye high rec...</td>\n",
       "      <td>hey guy crave pizza search visit cafe ye highl...</td>\n",
       "    </tr>\n",
       "  </tbody>\n",
       "</table>\n",
       "</div>"
      ],
      "text/plain": [
       "   rating_review                                        review_full  \\\n",
       "0              5  Totally in love with the Auro of the place, re...   \n",
       "1              5  I went this bar 8 days regularly with my husba...   \n",
       "2              5  We were few friends and was a birthday celebra...   \n",
       "3              5  Fatjar Cafe and Market is the perfect place fo...   \n",
       "4              5  Hey Guys, if you are craving for pizza and sea...   \n",
       "\n",
       "                                          word_count  \\\n",
       "0  {'Totally': 1, 'in': 3, 'love': 1, 'with': 2, ...   \n",
       "1  {'I': 1, 'went': 1, 'this': 1, 'bar': 1, '8': ...   \n",
       "2  {'We': 2, 'were': 1, 'few': 1, 'friends': 1, '...   \n",
       "3  {'Fatjar': 1, 'Cafe': 1, 'and': 4, 'Market': 1...   \n",
       "4  {'Hey': 1, 'Guys,': 1, 'if': 1, 'you': 3, 'are...   \n",
       "\n",
       "                                  parsedclean_review  \\\n",
       "0  totally love auro place really beautiful quite...   \n",
       "1  went bar days regularly husband fully satisfie...   \n",
       "2  friends birthday celebration food good taste r...   \n",
       "3  fatjar cafe market perfect place casual lunch ...   \n",
       "4  hey guys craving pizza searching visit cafe ye...   \n",
       "\n",
       "                                  clean_title_lemmat  \\\n",
       "0  totally love auro place really beautiful quite...   \n",
       "1  went bar day regularly husband fully satisfied...   \n",
       "2  friend birthday celebration food good taste re...   \n",
       "3  fatjar cafe market perfect place casual lunch ...   \n",
       "4  hey guy craving pizza searching visit cafe yes...   \n",
       "\n",
       "                                 clean_title_lancast  \\\n",
       "0  tot lov auro plac real beauty quit fant tim am...   \n",
       "1  went bar day regul husband ful satisfy serv st...   \n",
       "2  friend birthday celebr food good tast real fre...   \n",
       "3  fatj caf market perfect plac cas lunch lov on ...   \n",
       "4  hey guy crav pizz search visit caf ye high rec...   \n",
       "\n",
       "                                    clean_title_port  \n",
       "0  total love auro place realli beauti quit fanci...  \n",
       "1  went bar day regularli husband fulli satisfi s...  \n",
       "2  friend birthday celebr food good tast realli f...  \n",
       "3  fatjar cafe market perfect place casual lunch ...  \n",
       "4  hey guy crave pizza search visit cafe ye highl...  "
      ]
     },
     "execution_count": 6,
     "metadata": {},
     "output_type": "execute_result"
    }
   ],
   "source": [
    "cleaned_dataset.head()"
   ]
  },
  {
   "cell_type": "code",
   "execution_count": 18,
   "id": "d915be15",
   "metadata": {},
   "outputs": [
    {
     "name": "stdout",
     "output_type": "stream",
     "text": [
      "         Word  Frequency\n",
      "0        food     139748\n",
      "1        good      96525\n",
      "2       place      90804\n",
      "3     service      57036\n",
      "4  restaurant      50769\n",
      "5       great      44393\n",
      "6         one      42757\n",
      "7     chicken      36319\n",
      "8       staff      30850\n",
      "9        also      30631\n"
     ]
    }
   ],
   "source": [
    "from collections import Counter\n",
    "p = Counter(\" \".join(cleaned_dataset['parsedclean_review']).split()).most_common(10)\n",
    "rslt = pd.DataFrame(p, columns=['Word', 'Frequency'])\n",
    "print(rslt)"
   ]
  },
  {
   "cell_type": "markdown",
   "id": "b49deff6",
   "metadata": {},
   "source": [
    "### Baseline Accuracy"
   ]
  },
  {
   "cell_type": "code",
   "execution_count": 7,
   "id": "c9ec91c5",
   "metadata": {},
   "outputs": [
    {
     "data": {
      "text/plain": [
       "5    0.49051\n",
       "Name: rating_review, dtype: float64"
      ]
     },
     "execution_count": 7,
     "metadata": {},
     "output_type": "execute_result"
    }
   ],
   "source": [
    "\n",
    "cleaned_dataset['rating_review'].value_counts(normalize=1)[0:1]  # value and pct"
   ]
  },
  {
   "cell_type": "markdown",
   "id": "5e7aa574",
   "metadata": {},
   "source": [
    "## Features List"
   ]
  },
  {
   "cell_type": "code",
   "execution_count": 8,
   "id": "2321562c",
   "metadata": {},
   "outputs": [],
   "source": [
    "feat_title = ['review_full']\n",
    "feat_clean_title = ['parsedclean_review'] \n",
    "feat_tit_lemma = ['clean_title_lemmat'] ## Highest Scores\n",
    "feat_tit_landcast = ['clean_title_lancast'] \n",
    "feat_tit_port = ['clean_title_port'] \n",
    "features = feat_tit_lemma "
   ]
  },
  {
   "cell_type": "code",
   "execution_count": 9,
   "id": "cae019df",
   "metadata": {},
   "outputs": [
    {
     "name": "stdout",
     "output_type": "stream",
     "text": [
      "<class 'pandas.core.frame.DataFrame'>\n",
      "Int64Index: 147579 entries, 0 to 147578\n",
      "Data columns (total 7 columns):\n",
      " #   Column               Non-Null Count   Dtype \n",
      "---  ------               --------------   ----- \n",
      " 0   rating_review        147579 non-null  int64 \n",
      " 1   review_full          147579 non-null  object\n",
      " 2   word_count           147579 non-null  object\n",
      " 3   parsedclean_review   147579 non-null  object\n",
      " 4   clean_title_lemmat   147579 non-null  object\n",
      " 5   clean_title_lancast  147579 non-null  object\n",
      " 6   clean_title_port     147579 non-null  object\n",
      "dtypes: int64(1), object(6)\n",
      "memory usage: 9.0+ MB\n"
     ]
    }
   ],
   "source": [
    "cleaned_dataset.info()"
   ]
  },
  {
   "cell_type": "markdown",
   "id": "7e621e6b",
   "metadata": {},
   "source": [
    "## Split Test"
   ]
  },
  {
   "cell_type": "code",
   "execution_count": 21,
   "id": "f471fa68",
   "metadata": {},
   "outputs": [],
   "source": [
    "#Preparing data\n",
    "X = cleaned_dataset[features].iloc[:,0]\n",
    "y = cleaned_dataset['rating_review']\n",
    "X_train, X_test, y_train, y_test = train_test_split(X,y,stratify=y,random_state=15)"
   ]
  },
  {
   "cell_type": "code",
   "execution_count": 26,
   "id": "fffa9251",
   "metadata": {},
   "outputs": [],
   "source": [
    "cv = CountVectorizer()\n",
    "model_mult_nb = MultinomialNB()\n",
    "alphas = np.linspace(0,2,20)[1:]\n",
    "\n",
    "pipe = Pipeline([('cv',cv),\n",
    "                ('model',model_mult_nb)\n",
    "])"
   ]
  },
  {
   "cell_type": "code",
   "execution_count": 27,
   "id": "7468b155",
   "metadata": {},
   "outputs": [
    {
     "name": "stdout",
     "output_type": "stream",
     "text": [
      "GridSearchCV(cv=5,\n",
      "             estimator=Pipeline(steps=[('cv', CountVectorizer()),\n",
      "                                       ('model', MultinomialNB())]),\n",
      "             param_grid={'cv__max_df': [0.1, 0.15, 0.2, 0.3],\n",
      "                         'cv__max_features': [4000, 5000, 6000, None],\n",
      "                         'cv__min_df': [1, 5, 10, 15],\n",
      "                         'cv__ngram_range': [(1, 1)],\n",
      "                         'cv__stop_words': [['food', 'place']],\n",
      "                         'model__alpha': array([0.10526316, 0.21052632, 0.31578947, 0.42105263, 0.52631579,\n",
      "       0.63157895, 0.73684211, 0.84210526, 0.94736842, 1.05263158,\n",
      "       1.15789474, 1.26315789, 1.36842105, 1.47368421, 1.57894737,\n",
      "       1.68421053, 1.78947368, 1.89473684, 2.        ])})\n",
      "{'cv__max_df': 0.3, 'cv__max_features': None, 'cv__min_df': 1, 'cv__ngram_range': (1, 1), 'cv__stop_words': ['food', 'place'], 'model__alpha': 0.9473684210526315}\n",
      "Train Score:  0.6247\n",
      "Train Score:  0.629\n"
     ]
    }
   ],
   "source": [
    "params = {'cv__stop_words': [['food','place',]],\n",
    "          'cv__max_features':[4000,5000,6000,None],\n",
    "          'cv__ngram_range': [(1,1)],\n",
    "          'cv__min_df': [1,5,10,15],\n",
    "          'cv__max_df':[0.10,0.15,0.2,0.3],\n",
    "          'model__alpha' : alphas\n",
    "    }\n",
    "gs = GridSearchCV(pipe, param_grid=params,cv=5)\n",
    "print(gs.fit(X_train,y_train))\n",
    "print(gs.best_params_)\n",
    "print(\"Train Score: \", round(gs.best_score_,4))\n",
    "print(\"Train Score: \", round(gs.score(X_test,y_test),4))"
   ]
  },
  {
   "cell_type": "markdown",
   "id": "dfa5ce34",
   "metadata": {},
   "source": [
    "## Other Models:"
   ]
  },
  {
   "cell_type": "markdown",
   "id": "c004b0f2",
   "metadata": {},
   "source": [
    "### MultinomialNB "
   ]
  },
  {
   "cell_type": "code",
   "execution_count": 31,
   "id": "6146d0b1",
   "metadata": {},
   "outputs": [
    {
     "name": "stdout",
     "output_type": "stream",
     "text": [
      "GridSearchCV(cv=5,\n",
      "             estimator=Pipeline(steps=[('cv', CountVectorizer()),\n",
      "                                       ('model', MultinomialNB())]),\n",
      "             param_grid={'cv__stop_words': [['food', 'place']]})\n",
      "{'cv__stop_words': ['food', 'place']}\n",
      "Train Score:  0.628\n",
      "Train Score:  0.6317\n"
     ]
    }
   ],
   "source": [
    "cv = CountVectorizer()\n",
    "model_mult_nb = MultinomialNB()\n",
    "params = {'cv__stop_words': [['food','place']]}\n",
    "gs = GridSearchCV(pipe, param_grid=params,cv=5)\n",
    "print(gs.fit(X_train,y_train))\n",
    "print(gs.best_params_)\n",
    "print(\"Train Score: \", round(gs.best_score_,4))\n",
    "print(\"Train Score: \", round(gs.score(X_test,y_test),4))"
   ]
  },
  {
   "cell_type": "markdown",
   "id": "fe63d402",
   "metadata": {},
   "source": [
    "### Random Forest"
   ]
  },
  {
   "cell_type": "code",
   "execution_count": 32,
   "id": "50125ab5",
   "metadata": {},
   "outputs": [
    {
     "name": "stdout",
     "output_type": "stream",
     "text": [
      "Cross Val Score:  0.599056774762294\n",
      "Train Score:  0.9998\n",
      "Train Score:  0.6024\n"
     ]
    }
   ],
   "source": [
    "vectorizer = CountVectorizer(stop_words=['food','place'])\n",
    "X_train_vec = vectorizer.fit_transform(X_train)\n",
    "X_test_vec = vectorizer.transform(X_test)\n",
    "rf = RandomForestClassifier(random_state=42)\n",
    "rf.fit(X_train_vec,y_train)\n",
    "print(\"Cross Val Score: \",cross_val_score(rf,X_train_vec,y_train,cv=5).mean())\n",
    "print(\"Train Score: \", round(rf.score(X_train_vec,y_train),4))\n",
    "print(\"Train Score: \", round(rf.score(X_test_vec,y_test),4))\n"
   ]
  },
  {
   "cell_type": "markdown",
   "id": "e1c0e829",
   "metadata": {},
   "source": [
    "### Extra Trees"
   ]
  },
  {
   "cell_type": "code",
   "execution_count": 33,
   "id": "e5143e72",
   "metadata": {},
   "outputs": [
    {
     "name": "stdout",
     "output_type": "stream",
     "text": [
      "Cross Val Score:  0.599056774762294\n",
      "Train Score:  0.9998\n",
      "Test Score:  0.6038\n"
     ]
    }
   ],
   "source": [
    "vectorizer = CountVectorizer(stop_words=['food','place'])\n",
    "X_train_vec = vectorizer.fit_transform(X_train)\n",
    "X_test_vec = vectorizer.transform(X_test)\n",
    "et = ExtraTreesClassifier(random_state=42)\n",
    "et.fit(X_train_vec,y_train)\n",
    "print(\"Cross Val Score: \",cross_val_score(rf,X_train_vec,y_train,cv=5).mean())\n",
    "print(\"Train Score: \", round(et.score(X_train_vec,y_train),4))\n",
    "print(\"Test Score: \", round(et.score(X_test_vec,y_test),4))"
   ]
  },
  {
   "cell_type": "markdown",
   "id": "83458d6a",
   "metadata": {},
   "source": [
    "### Baggin Classifier"
   ]
  },
  {
   "cell_type": "code",
   "execution_count": 34,
   "id": "1551a300",
   "metadata": {},
   "outputs": [
    {
     "name": "stdout",
     "output_type": "stream",
     "text": [
      "Cross Val Score:  0.5745907368999361\n",
      "Train Score:  0.9040602074373894\n",
      "Test Score:  0.57780187017211\n"
     ]
    }
   ],
   "source": [
    "vectorizer = CountVectorizer(stop_words=['food','place'])\n",
    "X_train_vec = vectorizer.fit_transform(X_train)\n",
    "X_test_vec = vectorizer.transform(X_test)\n",
    "\n",
    "bagged = BaggingClassifier(base_estimator=DecisionTreeClassifier(random_state=42)\n",
    "                            ,max_samples=0.5, max_features=0.5)\n",
    "bagged.fit(X_train_vec,y_train)\n",
    "print(\"Cross Val Score: \",cross_val_score(bagged,X_train_vec,y_train,cv=5).mean())\n",
    "print(\"Train Score: \",bagged.score(X_train_vec,y_train))\n",
    "print(\"Test Score: \",bagged.score(X_test_vec,y_test))\n",
    "                             "
   ]
  },
  {
   "cell_type": "markdown",
   "id": "87b29358",
   "metadata": {},
   "source": [
    "### Tuning Random Forest"
   ]
  },
  {
   "cell_type": "code",
   "execution_count": 38,
   "id": "6a0836ef",
   "metadata": {
    "scrolled": true
   },
   "outputs": [
    {
     "name": "stdout",
     "output_type": "stream",
     "text": [
      "gini auto 65\n",
      "gini auto 66\n",
      "gini auto 67\n",
      "gini auto 68\n",
      "gini auto 69\n",
      "gini auto 70\n",
      "gini 0.75 65\n",
      "gini 0.75 66\n",
      "gini 0.75 67\n",
      "gini 0.75 68\n",
      "gini 0.75 69\n",
      "gini 0.75 70\n",
      "gini 0.8 65\n",
      "gini 0.8 66\n",
      "gini 0.8 67\n",
      "gini 0.8 68\n",
      "gini 0.8 69\n",
      "gini 0.8 70\n",
      "gini 0.4 65\n",
      "gini 0.4 66\n",
      "gini 0.4 67\n",
      "gini 0.4 68\n",
      "gini 0.4 69\n",
      "gini 0.4 70\n",
      "entropy auto 65\n",
      "entropy auto 66\n",
      "entropy auto 67\n",
      "entropy auto 68\n",
      "entropy auto 69\n",
      "entropy auto 70\n",
      "entropy 0.75 65\n",
      "entropy 0.75 66\n",
      "entropy 0.75 67\n",
      "entropy 0.75 68\n",
      "entropy 0.75 69\n",
      "entropy 0.75 70\n",
      "entropy 0.8 65\n",
      "entropy 0.8 66\n",
      "entropy 0.8 67\n",
      "entropy 0.8 68\n",
      "entropy 0.8 69\n",
      "entropy 0.8 70\n",
      "entropy 0.4 65\n",
      "entropy 0.4 66\n",
      "entropy 0.4 67\n",
      "entropy 0.4 68\n",
      "entropy 0.4 69\n",
      "entropy 0.4 70\n"
     ]
    }
   ],
   "source": [
    "vectorizer = CountVectorizer(stop_words=['food','place'])\n",
    "X_train_vec = vectorizer.fit_transform(X_train)\n",
    "X_test_vec = vectorizer.transform(X_test)\n",
    "model__max_features = ['auto',0.75,0.8,0.4]\n",
    "model__max_depth = [65,66,67,68,69,70]#,200]\n",
    "model__criterion = ['gini', 'entropy']\n",
    "sample_leaf_options = [1,5,10,50,100,200,500]\n",
    "results = []\n",
    "for crit in model__criterion:\n",
    "    for feat in model__max_features:\n",
    "        for depth in model__max_depth:\n",
    "            print(crit, feat,depth) ## min_samples_leaf=model_min_samples_leaf,n_estimators = [20] \n",
    "            et = ExtraTreesClassifier(random_state=42, criterion=crit,max_depth=depth,max_features=feat)\n",
    "            rf = RandomForestClassifier(n_estimators = 10,random_state=42, criterion=crit,max_depth=depth,max_features=feat\n",
    "                                       ,min_samples_leaf = 1)\n",
    "            rf.fit(X_train_vec,y_train)\n",
    "            cv_score = round(cross_val_score(rf,X_train_vec,y_train,cv=5).mean(),5)\n",
    "            train_score = round(rf.score(X_train_vec,y_train),5)\n",
    "            test_score = round(rf.score(X_test_vec,y_test),5)            \n",
    "            results.append([crit,feat,depth,cv_score,train_score,test_score])"
   ]
  },
  {
   "cell_type": "code",
   "execution_count": 41,
   "id": "10a87c80",
   "metadata": {},
   "outputs": [
    {
     "data": {
      "text/plain": [
       "[['gini', 'auto', 65, 0.54753, 0.73855, 0.54837],\n",
       " ['gini', 'auto', 66, 0.54711, 0.74191, 0.54875],\n",
       " ['gini', 'auto', 67, 0.54696, 0.7492, 0.54983],\n",
       " ['gini', 'auto', 68, 0.54769, 0.75201, 0.55246],\n",
       " ['gini', 'auto', 69, 0.5489, 0.75262, 0.5527],\n",
       " ['gini', 'auto', 70, 0.54845, 0.75847, 0.55289],\n",
       " ['gini', 0.75, 65, 0.58663, 0.88879, 0.5881],\n",
       " ['gini', 0.75, 66, 0.58578, 0.89267, 0.58775],\n",
       " ['gini', 0.75, 67, 0.58513, 0.89347, 0.58639],\n",
       " ['gini', 0.75, 68, 0.58421, 0.89649, 0.5874],\n",
       " ['gini', 0.75, 69, 0.58415, 0.89946, 0.58778],\n",
       " ['gini', 0.75, 70, 0.58485, 0.90208, 0.58848],\n",
       " ['gini', 0.8, 65, 0.58586, 0.88827, 0.58672],\n",
       " ['gini', 0.8, 66, 0.58419, 0.89222, 0.58588],\n",
       " ['gini', 0.8, 67, 0.58332, 0.89362, 0.58916],\n",
       " ['gini', 0.8, 68, 0.58422, 0.89535, 0.58769],\n",
       " ['gini', 0.8, 69, 0.58365, 0.89779, 0.58715],\n",
       " ['gini', 0.8, 70, 0.58459, 0.90165, 0.59068],\n",
       " ['gini', 0.4, 65, 0.58585, 0.88813, 0.58889],\n",
       " ['gini', 0.4, 66, 0.58628, 0.89016, 0.58981],\n",
       " ['gini', 0.4, 67, 0.58653, 0.8931, 0.59122],\n",
       " ['gini', 0.4, 68, 0.5857, 0.89442, 0.58938],\n",
       " ['gini', 0.4, 69, 0.58604, 0.8976, 0.59022],\n",
       " ['gini', 0.4, 70, 0.58573, 0.90002, 0.58835],\n",
       " ['entropy', 'auto', 65, 0.54435, 0.7536, 0.54563],\n",
       " ['entropy', 'auto', 66, 0.54593, 0.75147, 0.54422],\n",
       " ['entropy', 'auto', 67, 0.54528, 0.75955, 0.54639],\n",
       " ['entropy', 'auto', 68, 0.54588, 0.76536, 0.54845],\n",
       " ['entropy', 'auto', 69, 0.54622, 0.76974, 0.54623],\n",
       " ['entropy', 'auto', 70, 0.54818, 0.77096, 0.54644],\n",
       " ['entropy', 0.75, 65, 0.58191, 0.90513, 0.58314],\n",
       " ['entropy', 0.75, 66, 0.58334, 0.9078, 0.58656],\n",
       " ['entropy', 0.75, 67, 0.58125, 0.91205, 0.58517],\n",
       " ['entropy', 0.75, 68, 0.58356, 0.91241, 0.58612],\n",
       " ['entropy', 0.75, 69, 0.58171, 0.91631, 0.58439],\n",
       " ['entropy', 0.75, 70, 0.58016, 0.91959, 0.58528],\n",
       " ['entropy', 0.8, 65, 0.58306, 0.90703, 0.58328],\n",
       " ['entropy', 0.8, 66, 0.58152, 0.90962, 0.58623],\n",
       " ['entropy', 0.8, 67, 0.58223, 0.91188, 0.58469],\n",
       " ['entropy', 0.8, 68, 0.58204, 0.91408, 0.58385],\n",
       " ['entropy', 0.8, 69, 0.58185, 0.91641, 0.58428],\n",
       " ['entropy', 0.8, 70, 0.58129, 0.91959, 0.5862],\n",
       " ['entropy', 0.4, 65, 0.584, 0.901, 0.58794],\n",
       " ['entropy', 0.4, 66, 0.58425, 0.90449, 0.58631],\n",
       " ['entropy', 0.4, 67, 0.58271, 0.90727, 0.58539],\n",
       " ['entropy', 0.4, 68, 0.58301, 0.91181, 0.58509],\n",
       " ['entropy', 0.4, 69, 0.58269, 0.91331, 0.58864],\n",
       " ['entropy', 0.4, 70, 0.58216, 0.91579, 0.58523]]"
      ]
     },
     "execution_count": 41,
     "metadata": {},
     "output_type": "execute_result"
    }
   ],
   "source": [
    "results"
   ]
  },
  {
   "cell_type": "markdown",
   "id": "f4f93387",
   "metadata": {},
   "source": [
    "### Runing Random forest with optimal HyperParameters"
   ]
  },
  {
   "cell_type": "code",
   "execution_count": 42,
   "id": "d6a38c1a",
   "metadata": {},
   "outputs": [
    {
     "name": "stdout",
     "output_type": "stream",
     "text": [
      "Cross Val Score:  0.5545878599833325\n",
      "Train Score:  0.8037\n",
      "Test Score:  0.5547\n"
     ]
    }
   ],
   "source": [
    "vectorizer = CountVectorizer(stop_words=['food','place'])\n",
    "X_train_vec = vectorizer.fit_transform(X_train)\n",
    "X_test_vec = vectorizer.transform(X_test)\n",
    "rf = RandomForestClassifier(random_state=42,criterion='entropy',max_features='auto',max_depth=70)\n",
    "rf.fit(X_train_vec,y_train)\n",
    "print(\"Cross Val Score: \",cross_val_score(rf,X_train_vec,y_train,cv=5).mean())\n",
    "print(\"Train Score: \", round(rf.score(X_train_vec,y_train),4))\n",
    "print(\"Test Score: \", round(rf.score(X_test_vec,y_test),4))"
   ]
  },
  {
   "cell_type": "markdown",
   "id": "f471cb33",
   "metadata": {},
   "source": [
    "### Printing Random Forest top features:"
   ]
  },
  {
   "cell_type": "code",
   "execution_count": 43,
   "id": "aed083b4",
   "metadata": {},
   "outputs": [
    {
     "name": "stdout",
     "output_type": "stream",
     "text": [
      "Feature ranking:\n",
      "1. feature 4251 (0.015192) average\n",
      "2. feature 23845 (0.010358) good\n",
      "3. feature 1852 (0.006793) amazing\n",
      "4. feature 4670 (0.006508) bad\n",
      "5. feature 40361 (0.006267) ok\n",
      "6. feature 6061 (0.005716) best\n",
      "7. feature 19411 (0.005522) excellent\n",
      "8. feature 24302 (0.005045) great\n",
      "9. feature 15214 (0.004948) delicious\n",
      "10. feature 39777 (0.004850) nothing\n",
      "11. feature 44530 (0.004702) poor\n",
      "12. feature 64673 (0.004149) worst\n",
      "13. feature 6110 (0.003909) better\n",
      "14. feature 42630 (0.003805) pathetic\n",
      "15. feature 40825 (0.003744) ordered\n",
      "16. feature 38252 (0.003716) must\n",
      "17. feature 55275 (0.003676) staff\n",
      "18. feature 51905 (0.003675) service\n",
      "19. feature 58487 (0.003583) thanks\n",
      "20. feature 39278 (0.003408) nice\n"
     ]
    }
   ],
   "source": [
    "importances = rf.feature_importances_\n",
    "std = np.std([tree.feature_importances_ for tree in rf.estimators_],\n",
    "             axis=0)\n",
    "indices = np.argsort(importances)[::-1]\n",
    "\n",
    "# Print the feature ranking\n",
    "print(\"Feature ranking:\")\n",
    "\n",
    "for f in range(0,20): # X_train_vec.shape[1]\n",
    "    print(\"%d. feature %d (%f)\" % (f + 1, indices[f], importances[indices[f]]),new_train_df.iloc[:,indices[f]].name)"
   ]
  },
  {
   "cell_type": "code",
   "execution_count": 44,
   "id": "8759495b",
   "metadata": {},
   "outputs": [
    {
     "data": {
      "image/png": "[encoded data removed]",
      "text/plain": [
       "<Figure size 640x480 with 1 Axes>"
      ]
     },
     "metadata": {},
     "output_type": "display_data"
    },
    {
     "data": {
      "text/plain": [
       "<Figure size 1300x1300 with 0 Axes>"
      ]
     },
     "metadata": {},
     "output_type": "display_data"
    }
   ],
   "source": [
    "# Make dataset\n",
    "number_features_print = 10\n",
    "height = [importances[indices[i]] for i in range(0,number_features_print)]\n",
    "# bars = ['average', 'good', 'amazing', 'bad', 'ok','best','excellent','great', 'delicious', 'nothing']\n",
    "bars = [new_train_df.iloc[:,indices[x]].name for x in range(0,number_features_print)]\n",
    "\n",
    "\n",
    "height.reverse()\n",
    "bars.reverse()\n",
    "\n",
    "y_pos = np.arange(len(bars))\n",
    " \n",
    "# Create horizontal bars\n",
    "plt.barh(y_pos, height)\n",
    " \n",
    "# Create names on the y-axis\n",
    "plt.yticks(y_pos, bars)\n",
    "plt.title('Top predictors',fontsize=19)\n",
    "plt.yticks(fontsize=13)\n",
    "plt.xticks(fontsize=13)\n",
    "plt.ylabel('Word', fontsize = 16)\n",
    "plt.xlabel('Random Forest Coeficient', fontsize = 16)\n",
    "plt.figure(figsize=(13, 13))\n",
    "\n",
    "# Show graphic\n",
    "plt.show();\n"
   ]
  },
  {
   "cell_type": "markdown",
   "id": "acdce71d",
   "metadata": {},
   "source": [
    "## Result"
   ]
  },
  {
   "cell_type": "markdown",
   "id": "797e9056",
   "metadata": {},
   "source": [
    "1. Adjective words were the ones with most impact in this model´s classification process.\n",
    "2. The Random Forest Cassifier had a 91% accuracy in train set and 59% accuracy in test and 59% cross validation after hyperparameter tuning.\n",
    "3. Hyper parameter tuning didn't show any improvement in scores compared to the default options. A 0.04 decline in cross validation and test training scores while training score of training data decreased by 0.1 ."
   ]
  },
  {
   "cell_type": "code",
   "execution_count": null,
   "id": "40057b12",
   "metadata": {},
   "outputs": [],
   "source": []
  }
 ],
 "metadata": {
  "kernelspec": {
   "display_name": "Python 3 (ipykernel)",
   "language": "python",
   "name": "python3"
  },
  "language_info": {
   "codemirror_mode": {
    "name": "ipython",
    "version": 3
   },
   "file_extension": ".py",
   "mimetype": "text/x-python",
   "name": "python",
   "nbconvert_exporter": "python",
   "pygments_lexer": "ipython3",
   "version": "3.9.13"
  }
 },
 "nbformat": 4,
 "nbformat_minor": 5
}
